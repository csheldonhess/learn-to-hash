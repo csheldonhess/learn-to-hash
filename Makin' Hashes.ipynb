{
 "metadata": {
  "name": "",
  "signature": "sha256:16d21eac81c47e1b46cd974d71d8b485554021dcd2964cff2d52a3eaaaae89be"
 },
 "nbformat": 3,
 "nbformat_minor": 0,
 "worksheets": [
  {
   "cells": [
    {
     "cell_type": "code",
     "collapsed": false,
     "input": [
      "import unicodedata\n",
      "import string\n",
      "import hashlib\n",
      "\n",
      "longtext = '''Contrary to popular belief, Lorem Ipsum is not simply random text. It has roots in a piece of classical \n",
      "    Latin literature from 45 BC, making it over 2000 years old. Richard McClintock, a Latin professor at \n",
      "    Hampden-Sydney College in Virginia, looked up one of the more obscure Latin words, consectetur, from a \n",
      "    Lorem Ipsum passage, and going through the cites of the word in classical literature, discovered the \n",
      "    undoubtable source. Lorem Ipsum comes from sections 1.10.32 and 1.10.33 of \"de Finibus Bonorum et Malorum\" \n",
      "    (The Extremes of Good and Evil) by Cicero, written in 45 BC. This book is a treatise on the theory of ethics, \n",
      "    very popular during the Renaissance. The first line of Lorem Ipsum, \"Lorem ipsum dolor sit amet..\", comes from a \n",
      "    line in section 1.10.32.'''\n",
      "\n",
      "somedata = [{\n",
      "    'title': u'OMG Penguins! Who\u00f6dly whoodly w\u00fb!',\n",
      "    'contributors': [{ \n",
      "        'name': u'Mr. Popper',\n",
      "        'email': u'pop@popper.pop',\n",
      "    }, {\n",
      "        'name': u'Ab\u00e6c\u016bs E F\u012fnch',\n",
      "        'email': u'',\n",
      "    }],\n",
      "    'description': u'What if a much of a which of a wind gave truth to the summer\\'s lie? Kvothe the Raven nevermore.',\n",
      "}, \n",
      "    {\n",
      "    'title': u'All ab\u00f6\u00fct Ducks, yeah buddy; du\u00e7ks are amazing.',\n",
      "    'contributors': [{ \n",
      "        'name': u'\u00c1lbert D\u016bmbl\u00e9dore',\n",
      "        'email': u'wizard@wizardingschool.wiz',\n",
      "    }, {\n",
      "        'name': u'Albemarle K. J\u00f4\u00f1es',\n",
      "        'email': u'yeah@maps.yeah',\n",
      "    }],\n",
      "    'description': unicode(longtext),\n",
      "}\n",
      "]\n",
      "\n",
      "def uberhasher(metadata):\n",
      "    title = metadata['title']\n",
      "    contributors = metadata['contributors']\n",
      "    description = metadata['description']\n",
      "    return(titlehash(title), contributorhash(contributors), descriptionhash(description))\n",
      "\n",
      "def normalizestring(astring): # takes a unicode string\n",
      "    # docs.python.org/2/library/unicodedata.html\n",
      "    # TODO: this does not work for \u00e6 or \u00c6! What else?\n",
      "    bstring = unicodedata.normalize('NFKD', astring).encode('ascii','ignore')\n",
      "    bstring = bstring.lower()\n",
      "    exclude = set(string.punctuation)\n",
      "    exclude.add(' ')\n",
      "    bstring = ''.join(ch for ch in bstring if ch not in exclude)\n",
      "    return bstring # returns an ascii string, all stuck together\n",
      "\n",
      "def titlehash(title): # takes a unicode string\n",
      "    normalizedtitle = normalizestring(title)\n",
      "    return normalizedtitle  # returns an ascii string\n",
      "\n",
      "def descriptionhash(description): #takes a unicode string\n",
      "    normdescription = normalizestring(description)\n",
      "    normdescription = hashlib.md5(normdescription).hexdigest()\n",
      "    return normdescription # returns an actual hash; string of hexadecimal characters\n",
      "\n",
      "def contributorhash(contributors): # takes a list of dictionaries, unicode\n",
      "    namehash = ''\n",
      "    for contributor in contributors:\n",
      "        # strip middle names/initials - not going to work for honorifics, degrees\n",
      "        # can we please just have surname and givenname split out?\n",
      "        name = contributor['name'].split()\n",
      "        fullname = name[0] + name[len(name)-1]\n",
      "        normedname = normalizestring(fullname)\n",
      "        namehash += normedname\n",
      "    return namehash\n",
      "    \n",
      "for metadata in somedata:\n",
      "    print(uberhasher(metadata))\n",
      "    "
     ],
     "language": "python",
     "metadata": {},
     "outputs": [
      {
       "output_type": "stream",
       "stream": "stdout",
       "text": [
        "('omgpenguinswhoodlywhoodlywu', 'mrpopperabcusfinch', '49a7c80bca61edaed3db66abaa418e97')\n",
        "('allaboutducksyeahbuddyducksareamazing', 'albertdumbledorealbemarlejones', '651bbf6772082270c47528161f5e3dad')\n"
       ]
      }
     ],
     "prompt_number": 20
    },
    {
     "cell_type": "code",
     "collapsed": false,
     "input": [],
     "language": "python",
     "metadata": {},
     "outputs": [],
     "prompt_number": 8
    },
    {
     "cell_type": "code",
     "collapsed": false,
     "input": [],
     "language": "python",
     "metadata": {},
     "outputs": [],
     "prompt_number": 8
    },
    {
     "cell_type": "code",
     "collapsed": false,
     "input": [],
     "language": "python",
     "metadata": {},
     "outputs": []
    }
   ],
   "metadata": {}
  }
 ]
}