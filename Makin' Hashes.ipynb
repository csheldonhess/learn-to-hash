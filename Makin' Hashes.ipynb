{
 "metadata": {
  "name": "",
  "signature": "sha256:1fedb3ec6bff9cfd2dce8fee1a7ad1315f8f5f8de17bfe3075998e857e0680df"
 },
 "nbformat": 3,
 "nbformat_minor": 0,
 "worksheets": [
  {
   "cells": [
    {
     "cell_type": "code",
     "collapsed": false,
     "input": [
      "import unicodedata\n",
      "import string\n",
      "\n",
      "somedata = [{\n",
      "    'title': u'OMG Penguins! Who\u00f6dly whoodly w\u00fb!',\n",
      "    'contributors': [{ \n",
      "        'name': u'Mr. Popper',\n",
      "        'email': u'pop@popper.pop',\n",
      "    }, {\n",
      "        'name': u'Ab\u00e6c\u016bs E F\u012fnch',\n",
      "        'email': u'',\n",
      "    }]\n",
      "}, \n",
      "    {\n",
      "    'title': u'All ab\u00f6\u00fct Ducks, yeah buddy; du\u00e7ks are amazing.',\n",
      "    'contributors': [{ \n",
      "        'name': u'\u00c1lbert D\u016bmbl\u00e9dore',\n",
      "        'email': u'wizard@wizardingschool.wiz',\n",
      "    }, {\n",
      "        'name': u'Albemarle K. J\u00f4\u00f1es',\n",
      "        'email': u'yeah@maps.yeah',\n",
      "    }]\n",
      "}\n",
      "]\n",
      "\n",
      "def uberhasher(metadata):\n",
      "    title = metadata['title']\n",
      "    contributors = metadata['contributors']\n",
      "    return(titlehash(title), contributorhash(contributors))\n",
      "\n",
      "def normalizestring(astring): # takes a unicode string\n",
      "    # docs.python.org/2/library/unicodedata.html\n",
      "    # TODO: this does not work for \u00e6 or \u00c6! What else?\n",
      "    bstring = unicodedata.normalize('NFKD', astring).encode('ascii','ignore')\n",
      "    bstring = bstring.lower()\n",
      "    exclude = set(string.punctuation)\n",
      "    exclude.add(' ')\n",
      "    bstring = ''.join(ch for ch in bstring if ch not in exclude)\n",
      "    return bstring # returns an ascii string, all stuck together\n",
      "\n",
      "def titlehash(title): # takes an ascii string\n",
      "    normalizedtitle = normalizestring(title)\n",
      "    return normalizedtitle  # returns an ascii string\n",
      "\n",
      "def contributorhash(contributors): # takes a list of dictionaries, unicode\n",
      "    namehash = ''\n",
      "    for contributor in contributors:\n",
      "        # strip middle names/initials - not going to work for honorifics, degrees\n",
      "        # can we please just have surname and givenname split out?\n",
      "        name = contributor['name'].split()\n",
      "        fullname = name[0] + name[len(name)-1]\n",
      "        normedname = normalizestring(fullname)\n",
      "        namehash += normedname\n",
      "    return namehash\n",
      "    \n",
      "for metadata in somedata:\n",
      "    print(uberhasher(metadata))\n",
      "    "
     ],
     "language": "python",
     "metadata": {},
     "outputs": [
      {
       "output_type": "stream",
       "stream": "stdout",
       "text": [
        "('omgpenguinswhoodlywhoodlywu', 'mrpopperabcusfinch')\n",
        "('allaboutducksyeahbuddyducksareamazing', 'albertdumbledorealbemarlejones')\n"
       ]
      }
     ],
     "prompt_number": 17
    },
    {
     "cell_type": "code",
     "collapsed": false,
     "input": [],
     "language": "python",
     "metadata": {},
     "outputs": [],
     "prompt_number": 8
    },
    {
     "cell_type": "code",
     "collapsed": false,
     "input": [],
     "language": "python",
     "metadata": {},
     "outputs": [],
     "prompt_number": 8
    },
    {
     "cell_type": "code",
     "collapsed": false,
     "input": [],
     "language": "python",
     "metadata": {},
     "outputs": []
    }
   ],
   "metadata": {}
  }
 ]
}